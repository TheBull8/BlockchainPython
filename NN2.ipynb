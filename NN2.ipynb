{
  "nbformat": 4,
  "nbformat_minor": 0,
  "metadata": {
    "colab": {
      "provenance": [],
      "authorship_tag": "ABX9TyOpnEurd944y9eefnJszZp5",
      "include_colab_link": true
    },
    "kernelspec": {
      "name": "python3",
      "display_name": "Python 3"
    },
    "language_info": {
      "name": "python"
    }
  },
  "cells": [
    {
      "cell_type": "markdown",
      "metadata": {
        "id": "view-in-github",
        "colab_type": "text"
      },
      "source": [
        "<a href=\"https://colab.research.google.com/github/TheBull8/BlockchainPython/blob/master/NN2.ipynb\" target=\"_parent\"><img src=\"https://colab.research.google.com/assets/colab-badge.svg\" alt=\"Open In Colab\"/></a>"
      ]
    },
    {
      "cell_type": "code",
      "execution_count": 10,
      "metadata": {
        "id": "lkZs8BpXLQ_9"
      },
      "outputs": [],
      "source": [
        "import numpy as np\n",
        "class NeuralNetwork:\n",
        "    def train(self, input_vectors, targets, iterations):\n",
        "        cumulative_errors = []\n",
        "        for current_iteration in range(iterations):\n",
        "            random_data_index = np.random.randint(len(input_vectors))\n",
        "            input_vector = input_vectors[random_data_index]\n",
        "            target = targets[random_data_index]\n",
        "            derror_dbias, derror_dweights = self._compute_gradients(\n",
        "                input_vector, target\n",
        "            )\n",
        "\n",
        "            self._update_parameters(derror_dbias, derror_dweights)\n",
        "\n",
        "            if current_iteration % 100 == 0:\n",
        "                cumulative_error = 0\n",
        "\n",
        "                for data_instance_index in range(len(input_vectors)):\n",
        "                    data_point = input_vectors[data_instance_index]\n",
        "                    target = targets[data_instance_index]\n",
        "\n",
        "                    prediction = self.predict(data_point)\n",
        "                    error = np.square(prediction - target)\n",
        "\n",
        "                    cumulative_error = cumulative_error + error\n",
        "                cumulative_errors.append(cumulative_error)\n",
        "\n",
        "        return cumulative_errors"
      ]
    }
  ]
}